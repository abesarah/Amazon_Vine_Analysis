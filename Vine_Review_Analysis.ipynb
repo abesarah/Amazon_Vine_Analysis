{
 "cells": [
  {
   "cell_type": "code",
   "execution_count": 39,
   "id": "084d991b",
   "metadata": {},
   "outputs": [],
   "source": [
    "import pandas as pd\n",
    "import csv"
   ]
  },
  {
   "cell_type": "code",
   "execution_count": 85,
   "id": "b2962703",
   "metadata": {},
   "outputs": [
    {
     "data": {
      "text/html": [
       "<div>\n",
       "<style scoped>\n",
       "    .dataframe tbody tr th:only-of-type {\n",
       "        vertical-align: middle;\n",
       "    }\n",
       "\n",
       "    .dataframe tbody tr th {\n",
       "        vertical-align: top;\n",
       "    }\n",
       "\n",
       "    .dataframe thead th {\n",
       "        text-align: right;\n",
       "    }\n",
       "</style>\n",
       "<table border=\"1\" class=\"dataframe\">\n",
       "  <thead>\n",
       "    <tr style=\"text-align: right;\">\n",
       "      <th></th>\n",
       "      <th>review_id</th>\n",
       "      <th>star_rating</th>\n",
       "      <th>helpful_votes</th>\n",
       "      <th>total_votes</th>\n",
       "      <th>vine</th>\n",
       "      <th>verified_purchase</th>\n",
       "    </tr>\n",
       "  </thead>\n",
       "  <tbody>\n",
       "    <tr>\n",
       "      <th>0</th>\n",
       "      <td>R1NBG94582SJE2</td>\n",
       "      <td>5.0</td>\n",
       "      <td>0.0</td>\n",
       "      <td>0.0</td>\n",
       "      <td>N</td>\n",
       "      <td>Y</td>\n",
       "    </tr>\n",
       "    <tr>\n",
       "      <th>1</th>\n",
       "      <td>R273DCA6Y0H9V7</td>\n",
       "      <td>5.0</td>\n",
       "      <td>0.0</td>\n",
       "      <td>0.0</td>\n",
       "      <td>N</td>\n",
       "      <td>Y</td>\n",
       "    </tr>\n",
       "    <tr>\n",
       "      <th>2</th>\n",
       "      <td>RQVOXO7WUOFK6</td>\n",
       "      <td>2.0</td>\n",
       "      <td>1.0</td>\n",
       "      <td>1.0</td>\n",
       "      <td>N</td>\n",
       "      <td>Y</td>\n",
       "    </tr>\n",
       "    <tr>\n",
       "      <th>3</th>\n",
       "      <td>R1KWKSF21PO6HO</td>\n",
       "      <td>5.0</td>\n",
       "      <td>0.0</td>\n",
       "      <td>0.0</td>\n",
       "      <td>N</td>\n",
       "      <td>Y</td>\n",
       "    </tr>\n",
       "    <tr>\n",
       "      <th>4</th>\n",
       "      <td>R38H3UO1J190GI</td>\n",
       "      <td>5.0</td>\n",
       "      <td>1.0</td>\n",
       "      <td>1.0</td>\n",
       "      <td>N</td>\n",
       "      <td>Y</td>\n",
       "    </tr>\n",
       "  </tbody>\n",
       "</table>\n",
       "</div>"
      ],
      "text/plain": [
       "        review_id  star_rating  helpful_votes  total_votes vine  \\\n",
       "0  R1NBG94582SJE2          5.0            0.0          0.0    N   \n",
       "1  R273DCA6Y0H9V7          5.0            0.0          0.0    N   \n",
       "2   RQVOXO7WUOFK6          2.0            1.0          1.0    N   \n",
       "3  R1KWKSF21PO6HO          5.0            0.0          0.0    N   \n",
       "4  R38H3UO1J190GI          5.0            1.0          1.0    N   \n",
       "\n",
       "  verified_purchase  \n",
       "0                 Y  \n",
       "1                 Y  \n",
       "2                 Y  \n",
       "3                 Y  \n",
       "4                 Y  "
      ]
     },
     "execution_count": 85,
     "metadata": {},
     "output_type": "execute_result"
    }
   ],
   "source": [
    "vine_table_to_load = \"vine_table.csv\"\n",
    "vine_table_df = pd.read_csv(vine_table_to_load)\n",
    "vine_table_df.head()"
   ]
  },
  {
   "cell_type": "code",
   "execution_count": 126,
   "id": "170a47c4",
   "metadata": {},
   "outputs": [
    {
     "data": {
      "text/plain": [
       "review_id            59316\n",
       "star_rating          59316\n",
       "helpful_votes        59316\n",
       "total_votes          59316\n",
       "vine                 59316\n",
       "verified_purchase    59316\n",
       "dtype: int64"
      ]
     },
     "execution_count": 126,
     "metadata": {},
     "output_type": "execute_result"
    }
   ],
   "source": [
    "votes_gORe_twenty_df= vine_table_df.loc[(vine_table_df[\"total_votes\"] >= 20)]\n",
    "votes_gORe_twenty_df.count()"
   ]
  },
  {
   "cell_type": "code",
   "execution_count": 50,
   "id": "88033940",
   "metadata": {
    "scrolled": true
   },
   "outputs": [
    {
     "data": {
      "text/html": [
       "<div>\n",
       "<style scoped>\n",
       "    .dataframe tbody tr th:only-of-type {\n",
       "        vertical-align: middle;\n",
       "    }\n",
       "\n",
       "    .dataframe tbody tr th {\n",
       "        vertical-align: top;\n",
       "    }\n",
       "\n",
       "    .dataframe thead th {\n",
       "        text-align: right;\n",
       "    }\n",
       "</style>\n",
       "<table border=\"1\" class=\"dataframe\">\n",
       "  <thead>\n",
       "    <tr style=\"text-align: right;\">\n",
       "      <th></th>\n",
       "      <th>review_id</th>\n",
       "      <th>star_rating</th>\n",
       "      <th>helpful_votes</th>\n",
       "      <th>total_votes</th>\n",
       "      <th>vine</th>\n",
       "      <th>verified_purchase</th>\n",
       "    </tr>\n",
       "  </thead>\n",
       "  <tbody>\n",
       "    <tr>\n",
       "      <th>66</th>\n",
       "      <td>R3FJ319XA6ZAUQ</td>\n",
       "      <td>2.0</td>\n",
       "      <td>21.0</td>\n",
       "      <td>25.0</td>\n",
       "      <td>N</td>\n",
       "      <td>Y</td>\n",
       "    </tr>\n",
       "    <tr>\n",
       "      <th>124</th>\n",
       "      <td>R6HRF25HUMIIE</td>\n",
       "      <td>5.0</td>\n",
       "      <td>24.0</td>\n",
       "      <td>24.0</td>\n",
       "      <td>N</td>\n",
       "      <td>Y</td>\n",
       "    </tr>\n",
       "    <tr>\n",
       "      <th>173</th>\n",
       "      <td>R2CTAK3APOFKZU</td>\n",
       "      <td>5.0</td>\n",
       "      <td>37.0</td>\n",
       "      <td>38.0</td>\n",
       "      <td>N</td>\n",
       "      <td>N</td>\n",
       "    </tr>\n",
       "    <tr>\n",
       "      <th>217</th>\n",
       "      <td>R1WQZB0CAEPQBU</td>\n",
       "      <td>2.0</td>\n",
       "      <td>85.0</td>\n",
       "      <td>128.0</td>\n",
       "      <td>N</td>\n",
       "      <td>N</td>\n",
       "    </tr>\n",
       "    <tr>\n",
       "      <th>221</th>\n",
       "      <td>RHZDSA48HVRVK</td>\n",
       "      <td>5.0</td>\n",
       "      <td>49.0</td>\n",
       "      <td>86.0</td>\n",
       "      <td>N</td>\n",
       "      <td>N</td>\n",
       "    </tr>\n",
       "  </tbody>\n",
       "</table>\n",
       "</div>"
      ],
      "text/plain": [
       "          review_id  star_rating  helpful_votes  total_votes vine  \\\n",
       "66   R3FJ319XA6ZAUQ          2.0           21.0         25.0    N   \n",
       "124   R6HRF25HUMIIE          5.0           24.0         24.0    N   \n",
       "173  R2CTAK3APOFKZU          5.0           37.0         38.0    N   \n",
       "217  R1WQZB0CAEPQBU          2.0           85.0        128.0    N   \n",
       "221   RHZDSA48HVRVK          5.0           49.0         86.0    N   \n",
       "\n",
       "    verified_purchase  \n",
       "66                  Y  \n",
       "124                 Y  \n",
       "173                 N  \n",
       "217                 N  \n",
       "221                 N  "
      ]
     },
     "execution_count": 50,
     "metadata": {},
     "output_type": "execute_result"
    }
   ],
   "source": [
    "gORe_fifty_per= votes_gORe_twenty_df.loc[(votes_gORe_twenty_df[\"helpful_votes\"] / votes_gORe_twenty_df[\"total_votes\"])>=.5]\n",
    "gORe_fifty_per.head()"
   ]
  },
  {
   "cell_type": "code",
   "execution_count": 132,
   "id": "67c8252a",
   "metadata": {},
   "outputs": [
    {
     "data": {
      "text/html": [
       "<div>\n",
       "<style scoped>\n",
       "    .dataframe tbody tr th:only-of-type {\n",
       "        vertical-align: middle;\n",
       "    }\n",
       "\n",
       "    .dataframe tbody tr th {\n",
       "        vertical-align: top;\n",
       "    }\n",
       "\n",
       "    .dataframe thead th {\n",
       "        text-align: right;\n",
       "    }\n",
       "</style>\n",
       "<table border=\"1\" class=\"dataframe\">\n",
       "  <thead>\n",
       "    <tr style=\"text-align: right;\">\n",
       "      <th></th>\n",
       "      <th>review_id</th>\n",
       "      <th>star_rating</th>\n",
       "      <th>helpful_votes</th>\n",
       "      <th>total_votes</th>\n",
       "      <th>vine</th>\n",
       "      <th>verified_purchase</th>\n",
       "    </tr>\n",
       "  </thead>\n",
       "  <tbody>\n",
       "    <tr>\n",
       "      <th>4370</th>\n",
       "      <td>R37L6YZDX0P3J9</td>\n",
       "      <td>1.0</td>\n",
       "      <td>28.0</td>\n",
       "      <td>35.0</td>\n",
       "      <td>Y</td>\n",
       "      <td>N</td>\n",
       "    </tr>\n",
       "    <tr>\n",
       "      <th>5627</th>\n",
       "      <td>R2JT4XRQO2KASL</td>\n",
       "      <td>5.0</td>\n",
       "      <td>38.0</td>\n",
       "      <td>41.0</td>\n",
       "      <td>Y</td>\n",
       "      <td>N</td>\n",
       "    </tr>\n",
       "    <tr>\n",
       "      <th>32659</th>\n",
       "      <td>R10XRAOBFFSTL2</td>\n",
       "      <td>5.0</td>\n",
       "      <td>44.0</td>\n",
       "      <td>47.0</td>\n",
       "      <td>Y</td>\n",
       "      <td>N</td>\n",
       "    </tr>\n",
       "    <tr>\n",
       "      <th>34040</th>\n",
       "      <td>R1X8F3R1K1SF5</td>\n",
       "      <td>2.0</td>\n",
       "      <td>30.0</td>\n",
       "      <td>31.0</td>\n",
       "      <td>Y</td>\n",
       "      <td>N</td>\n",
       "    </tr>\n",
       "    <tr>\n",
       "      <th>57741</th>\n",
       "      <td>R326QV66CKBB43</td>\n",
       "      <td>4.0</td>\n",
       "      <td>127.0</td>\n",
       "      <td>139.0</td>\n",
       "      <td>Y</td>\n",
       "      <td>N</td>\n",
       "    </tr>\n",
       "  </tbody>\n",
       "</table>\n",
       "</div>"
      ],
      "text/plain": [
       "            review_id  star_rating  helpful_votes  total_votes vine  \\\n",
       "4370   R37L6YZDX0P3J9          1.0           28.0         35.0    Y   \n",
       "5627   R2JT4XRQO2KASL          5.0           38.0         41.0    Y   \n",
       "32659  R10XRAOBFFSTL2          5.0           44.0         47.0    Y   \n",
       "34040   R1X8F3R1K1SF5          2.0           30.0         31.0    Y   \n",
       "57741  R326QV66CKBB43          4.0          127.0        139.0    Y   \n",
       "\n",
       "      verified_purchase  \n",
       "4370                  N  \n",
       "5627                  N  \n",
       "32659                 N  \n",
       "34040                 N  \n",
       "57741                 N  "
      ]
     },
     "execution_count": 132,
     "metadata": {},
     "output_type": "execute_result"
    }
   ],
   "source": [
    "paid_vine = gORe_fifty_per.loc[(gORe_fifty_per[\"vine\"]== 'Y')]\n",
    "paid_vine.head()"
   ]
  },
  {
   "cell_type": "code",
   "execution_count": 55,
   "id": "2a6fac99",
   "metadata": {},
   "outputs": [
    {
     "data": {
      "text/html": [
       "<div>\n",
       "<style scoped>\n",
       "    .dataframe tbody tr th:only-of-type {\n",
       "        vertical-align: middle;\n",
       "    }\n",
       "\n",
       "    .dataframe tbody tr th {\n",
       "        vertical-align: top;\n",
       "    }\n",
       "\n",
       "    .dataframe thead th {\n",
       "        text-align: right;\n",
       "    }\n",
       "</style>\n",
       "<table border=\"1\" class=\"dataframe\">\n",
       "  <thead>\n",
       "    <tr style=\"text-align: right;\">\n",
       "      <th></th>\n",
       "      <th>review_id</th>\n",
       "      <th>star_rating</th>\n",
       "      <th>helpful_votes</th>\n",
       "      <th>total_votes</th>\n",
       "      <th>vine</th>\n",
       "      <th>verified_purchase</th>\n",
       "    </tr>\n",
       "  </thead>\n",
       "  <tbody>\n",
       "    <tr>\n",
       "      <th>66</th>\n",
       "      <td>R3FJ319XA6ZAUQ</td>\n",
       "      <td>2.0</td>\n",
       "      <td>21.0</td>\n",
       "      <td>25.0</td>\n",
       "      <td>N</td>\n",
       "      <td>Y</td>\n",
       "    </tr>\n",
       "    <tr>\n",
       "      <th>124</th>\n",
       "      <td>R6HRF25HUMIIE</td>\n",
       "      <td>5.0</td>\n",
       "      <td>24.0</td>\n",
       "      <td>24.0</td>\n",
       "      <td>N</td>\n",
       "      <td>Y</td>\n",
       "    </tr>\n",
       "    <tr>\n",
       "      <th>173</th>\n",
       "      <td>R2CTAK3APOFKZU</td>\n",
       "      <td>5.0</td>\n",
       "      <td>37.0</td>\n",
       "      <td>38.0</td>\n",
       "      <td>N</td>\n",
       "      <td>N</td>\n",
       "    </tr>\n",
       "    <tr>\n",
       "      <th>217</th>\n",
       "      <td>R1WQZB0CAEPQBU</td>\n",
       "      <td>2.0</td>\n",
       "      <td>85.0</td>\n",
       "      <td>128.0</td>\n",
       "      <td>N</td>\n",
       "      <td>N</td>\n",
       "    </tr>\n",
       "    <tr>\n",
       "      <th>221</th>\n",
       "      <td>RHZDSA48HVRVK</td>\n",
       "      <td>5.0</td>\n",
       "      <td>49.0</td>\n",
       "      <td>86.0</td>\n",
       "      <td>N</td>\n",
       "      <td>N</td>\n",
       "    </tr>\n",
       "  </tbody>\n",
       "</table>\n",
       "</div>"
      ],
      "text/plain": [
       "          review_id  star_rating  helpful_votes  total_votes vine  \\\n",
       "66   R3FJ319XA6ZAUQ          2.0           21.0         25.0    N   \n",
       "124   R6HRF25HUMIIE          5.0           24.0         24.0    N   \n",
       "173  R2CTAK3APOFKZU          5.0           37.0         38.0    N   \n",
       "217  R1WQZB0CAEPQBU          2.0           85.0        128.0    N   \n",
       "221   RHZDSA48HVRVK          5.0           49.0         86.0    N   \n",
       "\n",
       "    verified_purchase  \n",
       "66                  Y  \n",
       "124                 Y  \n",
       "173                 N  \n",
       "217                 N  \n",
       "221                 N  "
      ]
     },
     "execution_count": 55,
     "metadata": {},
     "output_type": "execute_result"
    }
   ],
   "source": [
    "unpaid_vine = gORe_fifty_per.loc[(gORe_fifty_per[\"vine\"] == 'N')]\n",
    "unpaid_vine.head()"
   ]
  },
  {
   "cell_type": "code",
   "execution_count": 135,
   "id": "6f0470ad",
   "metadata": {},
   "outputs": [
    {
     "data": {
      "text/plain": [
       "607"
      ]
     },
     "execution_count": 135,
     "metadata": {},
     "output_type": "execute_result"
    }
   ],
   "source": [
    "total_paid_count= paid_vine[\"review_id\"].count()\n",
    "total_paid_count"
   ]
  },
  {
   "cell_type": "code",
   "execution_count": 133,
   "id": "468406d4",
   "metadata": {},
   "outputs": [
    {
     "data": {
      "text/plain": [
       "257"
      ]
     },
     "execution_count": 133,
     "metadata": {},
     "output_type": "execute_result"
    }
   ],
   "source": [
    "paid_five_star_review = paid_vine.loc[(paid_vine[\"star_rating\"] == 5.0)]\n",
    "paid_five_star_review_count = paid_five_star_review[\"review_id\"].count()\n",
    "paid_five_star_review_count"
   ]
  },
  {
   "cell_type": "code",
   "execution_count": 137,
   "id": "ddea7290",
   "metadata": {},
   "outputs": [
    {
     "name": "stdout",
     "output_type": "stream",
     "text": [
      "42.34%\n"
     ]
    }
   ],
   "source": [
    "paid_star_percent = (paid_star_count / total_paid_count) \n",
    "print(f\"{paid_star_percent:.2%}\")"
   ]
  },
  {
   "cell_type": "code",
   "execution_count": 138,
   "id": "6fc0f602",
   "metadata": {},
   "outputs": [
    {
     "data": {
      "text/plain": [
       "50522"
      ]
     },
     "execution_count": 138,
     "metadata": {},
     "output_type": "execute_result"
    }
   ],
   "source": [
    "total_unpaid_count= unpaid_vine[\"review_id\"].count()\n",
    "total_unpaid_count"
   ]
  },
  {
   "cell_type": "code",
   "execution_count": 139,
   "id": "5f13a430",
   "metadata": {},
   "outputs": [
    {
     "data": {
      "text/plain": [
       "25220"
      ]
     },
     "execution_count": 139,
     "metadata": {},
     "output_type": "execute_result"
    }
   ],
   "source": [
    "unpaid_five_star_review = unpaid_vine.loc[(unpaid_vine[\"star_rating\"] == 5.0)]\n",
    "unpaid__five_star_review_count = unpaid_star[\"review_id\"].count()\n",
    "unpaid__five_star_review_count"
   ]
  },
  {
   "cell_type": "code",
   "execution_count": 140,
   "id": "7b0ee34b",
   "metadata": {},
   "outputs": [
    {
     "name": "stdout",
     "output_type": "stream",
     "text": [
      "49.919%\n"
     ]
    }
   ],
   "source": [
    "unpaid_star_percent = (unpaid_star_count / total_unpaid_count) \n",
    "print(f\"{unpaid_star_percent:.3%}\")"
   ]
  }
 ],
 "metadata": {
  "kernelspec": {
   "display_name": "PythonData",
   "language": "python",
   "name": "pythondata"
  },
  "language_info": {
   "codemirror_mode": {
    "name": "ipython",
    "version": 3
   },
   "file_extension": ".py",
   "mimetype": "text/x-python",
   "name": "python",
   "nbconvert_exporter": "python",
   "pygments_lexer": "ipython3",
   "version": "3.7.6"
  }
 },
 "nbformat": 4,
 "nbformat_minor": 5
}
